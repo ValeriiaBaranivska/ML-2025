{
 "cells": [
  {
   "metadata": {},
   "cell_type": "markdown",
   "source": [
    "#  **Лабораторна робота №1**\n",
    "## Використання бібліотек Pandas та Matplotlib\n",
    "##### Підгрупа №2\n",
    "##### Виконала: Бранівська Валерія  ст.гр.КМ-23\n",
    "---"
   ],
   "id": "8a77807f92f26ee"
  },
  {
   "metadata": {},
   "cell_type": "markdown",
   "source": "Імортування відповідних бібліотек Python.",
   "id": "5938c4788453573b"
  },
  {
   "metadata": {
    "ExecuteTime": {
     "end_time": "2025-02-27T06:54:25.917410Z",
     "start_time": "2025-02-27T06:54:15.359830Z"
    }
   },
   "cell_type": "code",
   "source": [
    "import pandas as pd\n",
    "import matplotlib.pyplot as plt"
   ],
   "id": "fbc121e30a2defb3",
   "outputs": [],
   "execution_count": 1
  },
  {
   "metadata": {},
   "cell_type": "markdown",
   "source": "1. Відкриваємо та зчитуємо файл з даними",
   "id": "5425c5772de74c4d"
  },
  {
   "metadata": {
    "ExecuteTime": {
     "end_time": "2025-02-27T06:54:26.125198Z",
     "start_time": "2025-02-27T06:54:25.996478Z"
    }
   },
   "cell_type": "code",
   "source": [
    "df = pd.read_csv('Vehicle_Sales.csv')\n",
    "df"
   ],
   "id": "82a473192518cbdf",
   "outputs": [
    {
     "data": {
      "text/plain": [
       "     Year Month    New   Used Total Sales New Total Sales Used\n",
       "0    2002   JAN  31106  49927      $755015820       $386481929\n",
       "1    2002   FEB  27520  50982      $664454223       $361353242\n",
       "2    2002   MAR  34225  58794      $805666244       $419385387\n",
       "3    2002   APR  36452  59817      $846368297       $433061150\n",
       "4    2002   MAY  37359  60577      $855005784       $442569410\n",
       "..    ...   ...    ...    ...             ...              ...\n",
       "181  2017   FEB  22413  55989      $776222008       $592255229\n",
       "182  2017   MAR  27838  72717      $926703144       $744746293\n",
       "183  2017   APR  26135  62740      $867722291       $654981615\n",
       "184  2017   MAY  28931  68296      $937804113       $718689038\n",
       "185  2017   JUN  31835  67827     $1019153457       $720739448\n",
       "\n",
       "[186 rows x 6 columns]"
      ],
      "text/html": [
       "<div>\n",
       "<style scoped>\n",
       "    .dataframe tbody tr th:only-of-type {\n",
       "        vertical-align: middle;\n",
       "    }\n",
       "\n",
       "    .dataframe tbody tr th {\n",
       "        vertical-align: top;\n",
       "    }\n",
       "\n",
       "    .dataframe thead th {\n",
       "        text-align: right;\n",
       "    }\n",
       "</style>\n",
       "<table border=\"1\" class=\"dataframe\">\n",
       "  <thead>\n",
       "    <tr style=\"text-align: right;\">\n",
       "      <th></th>\n",
       "      <th>Year</th>\n",
       "      <th>Month</th>\n",
       "      <th>New</th>\n",
       "      <th>Used</th>\n",
       "      <th>Total Sales New</th>\n",
       "      <th>Total Sales Used</th>\n",
       "    </tr>\n",
       "  </thead>\n",
       "  <tbody>\n",
       "    <tr>\n",
       "      <th>0</th>\n",
       "      <td>2002</td>\n",
       "      <td>JAN</td>\n",
       "      <td>31106</td>\n",
       "      <td>49927</td>\n",
       "      <td>$755015820</td>\n",
       "      <td>$386481929</td>\n",
       "    </tr>\n",
       "    <tr>\n",
       "      <th>1</th>\n",
       "      <td>2002</td>\n",
       "      <td>FEB</td>\n",
       "      <td>27520</td>\n",
       "      <td>50982</td>\n",
       "      <td>$664454223</td>\n",
       "      <td>$361353242</td>\n",
       "    </tr>\n",
       "    <tr>\n",
       "      <th>2</th>\n",
       "      <td>2002</td>\n",
       "      <td>MAR</td>\n",
       "      <td>34225</td>\n",
       "      <td>58794</td>\n",
       "      <td>$805666244</td>\n",
       "      <td>$419385387</td>\n",
       "    </tr>\n",
       "    <tr>\n",
       "      <th>3</th>\n",
       "      <td>2002</td>\n",
       "      <td>APR</td>\n",
       "      <td>36452</td>\n",
       "      <td>59817</td>\n",
       "      <td>$846368297</td>\n",
       "      <td>$433061150</td>\n",
       "    </tr>\n",
       "    <tr>\n",
       "      <th>4</th>\n",
       "      <td>2002</td>\n",
       "      <td>MAY</td>\n",
       "      <td>37359</td>\n",
       "      <td>60577</td>\n",
       "      <td>$855005784</td>\n",
       "      <td>$442569410</td>\n",
       "    </tr>\n",
       "    <tr>\n",
       "      <th>...</th>\n",
       "      <td>...</td>\n",
       "      <td>...</td>\n",
       "      <td>...</td>\n",
       "      <td>...</td>\n",
       "      <td>...</td>\n",
       "      <td>...</td>\n",
       "    </tr>\n",
       "    <tr>\n",
       "      <th>181</th>\n",
       "      <td>2017</td>\n",
       "      <td>FEB</td>\n",
       "      <td>22413</td>\n",
       "      <td>55989</td>\n",
       "      <td>$776222008</td>\n",
       "      <td>$592255229</td>\n",
       "    </tr>\n",
       "    <tr>\n",
       "      <th>182</th>\n",
       "      <td>2017</td>\n",
       "      <td>MAR</td>\n",
       "      <td>27838</td>\n",
       "      <td>72717</td>\n",
       "      <td>$926703144</td>\n",
       "      <td>$744746293</td>\n",
       "    </tr>\n",
       "    <tr>\n",
       "      <th>183</th>\n",
       "      <td>2017</td>\n",
       "      <td>APR</td>\n",
       "      <td>26135</td>\n",
       "      <td>62740</td>\n",
       "      <td>$867722291</td>\n",
       "      <td>$654981615</td>\n",
       "    </tr>\n",
       "    <tr>\n",
       "      <th>184</th>\n",
       "      <td>2017</td>\n",
       "      <td>MAY</td>\n",
       "      <td>28931</td>\n",
       "      <td>68296</td>\n",
       "      <td>$937804113</td>\n",
       "      <td>$718689038</td>\n",
       "    </tr>\n",
       "    <tr>\n",
       "      <th>185</th>\n",
       "      <td>2017</td>\n",
       "      <td>JUN</td>\n",
       "      <td>31835</td>\n",
       "      <td>67827</td>\n",
       "      <td>$1019153457</td>\n",
       "      <td>$720739448</td>\n",
       "    </tr>\n",
       "  </tbody>\n",
       "</table>\n",
       "<p>186 rows × 6 columns</p>\n",
       "</div>"
      ]
     },
     "execution_count": 2,
     "metadata": {},
     "output_type": "execute_result"
    }
   ],
   "execution_count": 2
  },
  {
   "metadata": {},
   "cell_type": "markdown",
   "source": [
    "2. Визначити та вивести кількість записів та кількість полів у кожному \n",
    "записі. "
   ],
   "id": "42ba76cd0835ad2"
  },
  {
   "metadata": {
    "ExecuteTime": {
     "end_time": "2025-02-27T06:54:27.707583Z",
     "start_time": "2025-02-27T06:54:27.689688Z"
    }
   },
   "cell_type": "code",
   "source": [
    "print(f\"Розмір: {df.size}\")\n",
    "print(f\"Кількість рядків: {df.shape[0]}\\nКількість стовпців: {df.shape[1]}\\n\")\n",
    "print(f\"Назви стовпців: {df.columns}\")"
   ],
   "id": "dda1ca8515333173",
   "outputs": [
    {
     "name": "stdout",
     "output_type": "stream",
     "text": [
      "Розмір: 1116\n",
      "Кількість рядків: 186\n",
      "Кількість стовпців: 6\n",
      "\n",
      "Назви стовпців: Index(['Year', 'Month', 'New', 'Used', 'Total Sales New', 'Total Sales Used'], dtype='object')\n"
     ]
    }
   ],
   "execution_count": 3
  },
  {
   "metadata": {},
   "cell_type": "markdown",
   "source": "3. Вивести К+7 перших та 5К-3 останніх записів. Тобто для мого варіанту це буде 10 перших та 12 останніх записів.",
   "id": "65ed6d0ff0378734"
  },
  {
   "metadata": {
    "ExecuteTime": {
     "end_time": "2025-02-27T06:54:28.146592Z",
     "start_time": "2025-02-27T06:54:28.110104Z"
    }
   },
   "cell_type": "code",
   "source": [
    "df.head(10),df.tail(12)\n",
    "#df[:10],df[-12:] #індексація як в списках\n"
   ],
   "id": "65bb5e11a0dba750",
   "outputs": [
    {
     "data": {
      "text/plain": [
       "(   Year Month    New   Used Total Sales New Total Sales Used\n",
       " 0  2002   JAN  31106  49927      $755015820       $386481929\n",
       " 1  2002   FEB  27520  50982      $664454223       $361353242\n",
       " 2  2002   MAR  34225  58794      $805666244       $419385387\n",
       " 3  2002   APR  36452  59817      $846368297       $433061150\n",
       " 4  2002   MAY  37359  60577      $855005784       $442569410\n",
       " 5  2002   JUN  36348  55415      $830251613       $414731166\n",
       " 6  2002   JUL  30367  55235      $700530891       $384673023\n",
       " 7  2002   AUG  38965  60310      $934484212       $455453720\n",
       " 8  2002   SEP  39740  55485      $950502055       $432112270\n",
       " 9  2002   OCT  35276  58020      $865326154       $456738532,\n",
       "      Year Month    New   Used Total Sales New Total Sales Used\n",
       " 174  2016   JUL  29636  62545      $960502273       $691521741\n",
       " 175  2016   AUG  29945  70887      $994401467       $780694327\n",
       " 176  2016   SEP  28544  66056      $976643490       $742588270\n",
       " 177  2016   OCT  27082  61678      $907244735       $685808210\n",
       " 178  2016   NOV  25381  58037      $857844856       $641353419\n",
       " 179  2016   DEC  26205  56234      $926735097       $655654762\n",
       " 180  2017   JAN  28827  56583     $1000285431       $674078790\n",
       " 181  2017   FEB  22413  55989      $776222008       $592255229\n",
       " 182  2017   MAR  27838  72717      $926703144       $744746293\n",
       " 183  2017   APR  26135  62740      $867722291       $654981615\n",
       " 184  2017   MAY  28931  68296      $937804113       $718689038\n",
       " 185  2017   JUN  31835  67827     $1019153457       $720739448)"
      ]
     },
     "execution_count": 4,
     "metadata": {},
     "output_type": "execute_result"
    }
   ],
   "execution_count": 4
  },
  {
   "metadata": {},
   "cell_type": "markdown",
   "source": "4. Визначити та вивести тип полів кожного запису",
   "id": "c9c72495782e60d"
  },
  {
   "metadata": {
    "ExecuteTime": {
     "end_time": "2025-02-27T06:54:28.794152Z",
     "start_time": "2025-02-27T06:54:28.767351Z"
    }
   },
   "cell_type": "code",
   "source": "df.dtypes",
   "id": "123bf1b5b8e1645d",
   "outputs": [
    {
     "data": {
      "text/plain": [
       "Year                 int64\n",
       "Month               object\n",
       "New                  int64\n",
       "Used                 int64\n",
       "Total Sales New     object\n",
       "Total Sales Used    object\n",
       "dtype: object"
      ]
     },
     "execution_count": 5,
     "metadata": {},
     "output_type": "execute_result"
    }
   ],
   "execution_count": 5
  },
  {
   "metadata": {},
   "cell_type": "markdown",
   "source": [
    "5. Привести поля, що відповідають обсягам продаж, до числового вигляду\n",
    "(показати, що це виконано)"
   ],
   "id": "a31133ae145570b5"
  },
  {
   "metadata": {
    "ExecuteTime": {
     "end_time": "2025-02-27T06:54:29.531479Z",
     "start_time": "2025-02-27T06:54:29.483452Z"
    }
   },
   "cell_type": "code",
   "source": [
    "df['Total Sales Used'] = df['Total Sales Used'].str.split('$').str[1].astype(float)\n",
    "df"
   ],
   "id": "2599d4f5e859a07f",
   "outputs": [
    {
     "data": {
      "text/plain": [
       "     Year Month    New   Used Total Sales New  Total Sales Used\n",
       "0    2002   JAN  31106  49927      $755015820       386481929.0\n",
       "1    2002   FEB  27520  50982      $664454223       361353242.0\n",
       "2    2002   MAR  34225  58794      $805666244       419385387.0\n",
       "3    2002   APR  36452  59817      $846368297       433061150.0\n",
       "4    2002   MAY  37359  60577      $855005784       442569410.0\n",
       "..    ...   ...    ...    ...             ...               ...\n",
       "181  2017   FEB  22413  55989      $776222008       592255229.0\n",
       "182  2017   MAR  27838  72717      $926703144       744746293.0\n",
       "183  2017   APR  26135  62740      $867722291       654981615.0\n",
       "184  2017   MAY  28931  68296      $937804113       718689038.0\n",
       "185  2017   JUN  31835  67827     $1019153457       720739448.0\n",
       "\n",
       "[186 rows x 6 columns]"
      ],
      "text/html": [
       "<div>\n",
       "<style scoped>\n",
       "    .dataframe tbody tr th:only-of-type {\n",
       "        vertical-align: middle;\n",
       "    }\n",
       "\n",
       "    .dataframe tbody tr th {\n",
       "        vertical-align: top;\n",
       "    }\n",
       "\n",
       "    .dataframe thead th {\n",
       "        text-align: right;\n",
       "    }\n",
       "</style>\n",
       "<table border=\"1\" class=\"dataframe\">\n",
       "  <thead>\n",
       "    <tr style=\"text-align: right;\">\n",
       "      <th></th>\n",
       "      <th>Year</th>\n",
       "      <th>Month</th>\n",
       "      <th>New</th>\n",
       "      <th>Used</th>\n",
       "      <th>Total Sales New</th>\n",
       "      <th>Total Sales Used</th>\n",
       "    </tr>\n",
       "  </thead>\n",
       "  <tbody>\n",
       "    <tr>\n",
       "      <th>0</th>\n",
       "      <td>2002</td>\n",
       "      <td>JAN</td>\n",
       "      <td>31106</td>\n",
       "      <td>49927</td>\n",
       "      <td>$755015820</td>\n",
       "      <td>386481929.0</td>\n",
       "    </tr>\n",
       "    <tr>\n",
       "      <th>1</th>\n",
       "      <td>2002</td>\n",
       "      <td>FEB</td>\n",
       "      <td>27520</td>\n",
       "      <td>50982</td>\n",
       "      <td>$664454223</td>\n",
       "      <td>361353242.0</td>\n",
       "    </tr>\n",
       "    <tr>\n",
       "      <th>2</th>\n",
       "      <td>2002</td>\n",
       "      <td>MAR</td>\n",
       "      <td>34225</td>\n",
       "      <td>58794</td>\n",
       "      <td>$805666244</td>\n",
       "      <td>419385387.0</td>\n",
       "    </tr>\n",
       "    <tr>\n",
       "      <th>3</th>\n",
       "      <td>2002</td>\n",
       "      <td>APR</td>\n",
       "      <td>36452</td>\n",
       "      <td>59817</td>\n",
       "      <td>$846368297</td>\n",
       "      <td>433061150.0</td>\n",
       "    </tr>\n",
       "    <tr>\n",
       "      <th>4</th>\n",
       "      <td>2002</td>\n",
       "      <td>MAY</td>\n",
       "      <td>37359</td>\n",
       "      <td>60577</td>\n",
       "      <td>$855005784</td>\n",
       "      <td>442569410.0</td>\n",
       "    </tr>\n",
       "    <tr>\n",
       "      <th>...</th>\n",
       "      <td>...</td>\n",
       "      <td>...</td>\n",
       "      <td>...</td>\n",
       "      <td>...</td>\n",
       "      <td>...</td>\n",
       "      <td>...</td>\n",
       "    </tr>\n",
       "    <tr>\n",
       "      <th>181</th>\n",
       "      <td>2017</td>\n",
       "      <td>FEB</td>\n",
       "      <td>22413</td>\n",
       "      <td>55989</td>\n",
       "      <td>$776222008</td>\n",
       "      <td>592255229.0</td>\n",
       "    </tr>\n",
       "    <tr>\n",
       "      <th>182</th>\n",
       "      <td>2017</td>\n",
       "      <td>MAR</td>\n",
       "      <td>27838</td>\n",
       "      <td>72717</td>\n",
       "      <td>$926703144</td>\n",
       "      <td>744746293.0</td>\n",
       "    </tr>\n",
       "    <tr>\n",
       "      <th>183</th>\n",
       "      <td>2017</td>\n",
       "      <td>APR</td>\n",
       "      <td>26135</td>\n",
       "      <td>62740</td>\n",
       "      <td>$867722291</td>\n",
       "      <td>654981615.0</td>\n",
       "    </tr>\n",
       "    <tr>\n",
       "      <th>184</th>\n",
       "      <td>2017</td>\n",
       "      <td>MAY</td>\n",
       "      <td>28931</td>\n",
       "      <td>68296</td>\n",
       "      <td>$937804113</td>\n",
       "      <td>718689038.0</td>\n",
       "    </tr>\n",
       "    <tr>\n",
       "      <th>185</th>\n",
       "      <td>2017</td>\n",
       "      <td>JUN</td>\n",
       "      <td>31835</td>\n",
       "      <td>67827</td>\n",
       "      <td>$1019153457</td>\n",
       "      <td>720739448.0</td>\n",
       "    </tr>\n",
       "  </tbody>\n",
       "</table>\n",
       "<p>186 rows × 6 columns</p>\n",
       "</div>"
      ]
     },
     "execution_count": 6,
     "metadata": {},
     "output_type": "execute_result"
    }
   ],
   "execution_count": 6
  },
  {
   "metadata": {
    "ExecuteTime": {
     "end_time": "2025-02-27T06:54:30.043029Z",
     "start_time": "2025-02-27T06:54:30.005221Z"
    }
   },
   "cell_type": "code",
   "source": [
    "df['Total Sales New'] = df['Total Sales New'].str.split('$').str[1].astype(float)\n",
    "df"
   ],
   "id": "b303f85c150c5317",
   "outputs": [
    {
     "data": {
      "text/plain": [
       "     Year Month    New   Used  Total Sales New  Total Sales Used\n",
       "0    2002   JAN  31106  49927     7.550158e+08       386481929.0\n",
       "1    2002   FEB  27520  50982     6.644542e+08       361353242.0\n",
       "2    2002   MAR  34225  58794     8.056662e+08       419385387.0\n",
       "3    2002   APR  36452  59817     8.463683e+08       433061150.0\n",
       "4    2002   MAY  37359  60577     8.550058e+08       442569410.0\n",
       "..    ...   ...    ...    ...              ...               ...\n",
       "181  2017   FEB  22413  55989     7.762220e+08       592255229.0\n",
       "182  2017   MAR  27838  72717     9.267031e+08       744746293.0\n",
       "183  2017   APR  26135  62740     8.677223e+08       654981615.0\n",
       "184  2017   MAY  28931  68296     9.378041e+08       718689038.0\n",
       "185  2017   JUN  31835  67827     1.019153e+09       720739448.0\n",
       "\n",
       "[186 rows x 6 columns]"
      ],
      "text/html": [
       "<div>\n",
       "<style scoped>\n",
       "    .dataframe tbody tr th:only-of-type {\n",
       "        vertical-align: middle;\n",
       "    }\n",
       "\n",
       "    .dataframe tbody tr th {\n",
       "        vertical-align: top;\n",
       "    }\n",
       "\n",
       "    .dataframe thead th {\n",
       "        text-align: right;\n",
       "    }\n",
       "</style>\n",
       "<table border=\"1\" class=\"dataframe\">\n",
       "  <thead>\n",
       "    <tr style=\"text-align: right;\">\n",
       "      <th></th>\n",
       "      <th>Year</th>\n",
       "      <th>Month</th>\n",
       "      <th>New</th>\n",
       "      <th>Used</th>\n",
       "      <th>Total Sales New</th>\n",
       "      <th>Total Sales Used</th>\n",
       "    </tr>\n",
       "  </thead>\n",
       "  <tbody>\n",
       "    <tr>\n",
       "      <th>0</th>\n",
       "      <td>2002</td>\n",
       "      <td>JAN</td>\n",
       "      <td>31106</td>\n",
       "      <td>49927</td>\n",
       "      <td>7.550158e+08</td>\n",
       "      <td>386481929.0</td>\n",
       "    </tr>\n",
       "    <tr>\n",
       "      <th>1</th>\n",
       "      <td>2002</td>\n",
       "      <td>FEB</td>\n",
       "      <td>27520</td>\n",
       "      <td>50982</td>\n",
       "      <td>6.644542e+08</td>\n",
       "      <td>361353242.0</td>\n",
       "    </tr>\n",
       "    <tr>\n",
       "      <th>2</th>\n",
       "      <td>2002</td>\n",
       "      <td>MAR</td>\n",
       "      <td>34225</td>\n",
       "      <td>58794</td>\n",
       "      <td>8.056662e+08</td>\n",
       "      <td>419385387.0</td>\n",
       "    </tr>\n",
       "    <tr>\n",
       "      <th>3</th>\n",
       "      <td>2002</td>\n",
       "      <td>APR</td>\n",
       "      <td>36452</td>\n",
       "      <td>59817</td>\n",
       "      <td>8.463683e+08</td>\n",
       "      <td>433061150.0</td>\n",
       "    </tr>\n",
       "    <tr>\n",
       "      <th>4</th>\n",
       "      <td>2002</td>\n",
       "      <td>MAY</td>\n",
       "      <td>37359</td>\n",
       "      <td>60577</td>\n",
       "      <td>8.550058e+08</td>\n",
       "      <td>442569410.0</td>\n",
       "    </tr>\n",
       "    <tr>\n",
       "      <th>...</th>\n",
       "      <td>...</td>\n",
       "      <td>...</td>\n",
       "      <td>...</td>\n",
       "      <td>...</td>\n",
       "      <td>...</td>\n",
       "      <td>...</td>\n",
       "    </tr>\n",
       "    <tr>\n",
       "      <th>181</th>\n",
       "      <td>2017</td>\n",
       "      <td>FEB</td>\n",
       "      <td>22413</td>\n",
       "      <td>55989</td>\n",
       "      <td>7.762220e+08</td>\n",
       "      <td>592255229.0</td>\n",
       "    </tr>\n",
       "    <tr>\n",
       "      <th>182</th>\n",
       "      <td>2017</td>\n",
       "      <td>MAR</td>\n",
       "      <td>27838</td>\n",
       "      <td>72717</td>\n",
       "      <td>9.267031e+08</td>\n",
       "      <td>744746293.0</td>\n",
       "    </tr>\n",
       "    <tr>\n",
       "      <th>183</th>\n",
       "      <td>2017</td>\n",
       "      <td>APR</td>\n",
       "      <td>26135</td>\n",
       "      <td>62740</td>\n",
       "      <td>8.677223e+08</td>\n",
       "      <td>654981615.0</td>\n",
       "    </tr>\n",
       "    <tr>\n",
       "      <th>184</th>\n",
       "      <td>2017</td>\n",
       "      <td>MAY</td>\n",
       "      <td>28931</td>\n",
       "      <td>68296</td>\n",
       "      <td>9.378041e+08</td>\n",
       "      <td>718689038.0</td>\n",
       "    </tr>\n",
       "    <tr>\n",
       "      <th>185</th>\n",
       "      <td>2017</td>\n",
       "      <td>JUN</td>\n",
       "      <td>31835</td>\n",
       "      <td>67827</td>\n",
       "      <td>1.019153e+09</td>\n",
       "      <td>720739448.0</td>\n",
       "    </tr>\n",
       "  </tbody>\n",
       "</table>\n",
       "<p>186 rows × 6 columns</p>\n",
       "</div>"
      ]
     },
     "execution_count": 7,
     "metadata": {},
     "output_type": "execute_result"
    }
   ],
   "execution_count": 7
  },
  {
   "metadata": {
    "ExecuteTime": {
     "end_time": "2025-02-27T06:54:31.002847Z",
     "start_time": "2025-02-27T06:54:30.974241Z"
    }
   },
   "cell_type": "code",
   "source": "df.dtypes",
   "id": "8bf600ebdb795044",
   "outputs": [
    {
     "data": {
      "text/plain": [
       "Year                  int64\n",
       "Month                object\n",
       "New                   int64\n",
       "Used                  int64\n",
       "Total Sales New     float64\n",
       "Total Sales Used    float64\n",
       "dtype: object"
      ]
     },
     "execution_count": 8,
     "metadata": {},
     "output_type": "execute_result"
    }
   ],
   "execution_count": 8
  },
  {
   "metadata": {},
   "cell_type": "markdown",
   "source": [
    "6. **Ввести нові поля:**\n",
    "    1. Сумарний обсяг продаж автомобілів (нових та б/в) у кожний\n",
    "період; \n",
    "    2. Сумарний дохід від продажу автомобілів (нових та б/в) у кожний\n",
    "період; \n",
    "    3. Різницю в обсязі продаж нових та б/в автомобілів у кожній\n",
    "період. "
   ],
   "id": "62dab3313ff9a563"
  },
  {
   "metadata": {
    "ExecuteTime": {
     "end_time": "2025-02-27T06:54:31.630817Z",
     "start_time": "2025-02-27T06:54:31.575984Z"
    }
   },
   "cell_type": "code",
   "source": [
    "df['Sum New and Used'] = df['New']+df['Used']\n",
    "df['Total Sales'] = df['Total Sales New']+df['Total Sales Used']\n",
    "df['Diff New and Used'] = df['New']-df['Used']\n",
    "df"
   ],
   "id": "82979e498103187f",
   "outputs": [
    {
     "data": {
      "text/plain": [
       "     Year Month    New   Used  Total Sales New  Total Sales Used  \\\n",
       "0    2002   JAN  31106  49927     7.550158e+08       386481929.0   \n",
       "1    2002   FEB  27520  50982     6.644542e+08       361353242.0   \n",
       "2    2002   MAR  34225  58794     8.056662e+08       419385387.0   \n",
       "3    2002   APR  36452  59817     8.463683e+08       433061150.0   \n",
       "4    2002   MAY  37359  60577     8.550058e+08       442569410.0   \n",
       "..    ...   ...    ...    ...              ...               ...   \n",
       "181  2017   FEB  22413  55989     7.762220e+08       592255229.0   \n",
       "182  2017   MAR  27838  72717     9.267031e+08       744746293.0   \n",
       "183  2017   APR  26135  62740     8.677223e+08       654981615.0   \n",
       "184  2017   MAY  28931  68296     9.378041e+08       718689038.0   \n",
       "185  2017   JUN  31835  67827     1.019153e+09       720739448.0   \n",
       "\n",
       "     Sum New and Used   Total Sales  Diff New and Used  \n",
       "0               81033  1.141498e+09             -18821  \n",
       "1               78502  1.025807e+09             -23462  \n",
       "2               93019  1.225052e+09             -24569  \n",
       "3               96269  1.279429e+09             -23365  \n",
       "4               97936  1.297575e+09             -23218  \n",
       "..                ...           ...                ...  \n",
       "181             78402  1.368477e+09             -33576  \n",
       "182            100555  1.671449e+09             -44879  \n",
       "183             88875  1.522704e+09             -36605  \n",
       "184             97227  1.656493e+09             -39365  \n",
       "185             99662  1.739893e+09             -35992  \n",
       "\n",
       "[186 rows x 9 columns]"
      ],
      "text/html": [
       "<div>\n",
       "<style scoped>\n",
       "    .dataframe tbody tr th:only-of-type {\n",
       "        vertical-align: middle;\n",
       "    }\n",
       "\n",
       "    .dataframe tbody tr th {\n",
       "        vertical-align: top;\n",
       "    }\n",
       "\n",
       "    .dataframe thead th {\n",
       "        text-align: right;\n",
       "    }\n",
       "</style>\n",
       "<table border=\"1\" class=\"dataframe\">\n",
       "  <thead>\n",
       "    <tr style=\"text-align: right;\">\n",
       "      <th></th>\n",
       "      <th>Year</th>\n",
       "      <th>Month</th>\n",
       "      <th>New</th>\n",
       "      <th>Used</th>\n",
       "      <th>Total Sales New</th>\n",
       "      <th>Total Sales Used</th>\n",
       "      <th>Sum New and Used</th>\n",
       "      <th>Total Sales</th>\n",
       "      <th>Diff New and Used</th>\n",
       "    </tr>\n",
       "  </thead>\n",
       "  <tbody>\n",
       "    <tr>\n",
       "      <th>0</th>\n",
       "      <td>2002</td>\n",
       "      <td>JAN</td>\n",
       "      <td>31106</td>\n",
       "      <td>49927</td>\n",
       "      <td>7.550158e+08</td>\n",
       "      <td>386481929.0</td>\n",
       "      <td>81033</td>\n",
       "      <td>1.141498e+09</td>\n",
       "      <td>-18821</td>\n",
       "    </tr>\n",
       "    <tr>\n",
       "      <th>1</th>\n",
       "      <td>2002</td>\n",
       "      <td>FEB</td>\n",
       "      <td>27520</td>\n",
       "      <td>50982</td>\n",
       "      <td>6.644542e+08</td>\n",
       "      <td>361353242.0</td>\n",
       "      <td>78502</td>\n",
       "      <td>1.025807e+09</td>\n",
       "      <td>-23462</td>\n",
       "    </tr>\n",
       "    <tr>\n",
       "      <th>2</th>\n",
       "      <td>2002</td>\n",
       "      <td>MAR</td>\n",
       "      <td>34225</td>\n",
       "      <td>58794</td>\n",
       "      <td>8.056662e+08</td>\n",
       "      <td>419385387.0</td>\n",
       "      <td>93019</td>\n",
       "      <td>1.225052e+09</td>\n",
       "      <td>-24569</td>\n",
       "    </tr>\n",
       "    <tr>\n",
       "      <th>3</th>\n",
       "      <td>2002</td>\n",
       "      <td>APR</td>\n",
       "      <td>36452</td>\n",
       "      <td>59817</td>\n",
       "      <td>8.463683e+08</td>\n",
       "      <td>433061150.0</td>\n",
       "      <td>96269</td>\n",
       "      <td>1.279429e+09</td>\n",
       "      <td>-23365</td>\n",
       "    </tr>\n",
       "    <tr>\n",
       "      <th>4</th>\n",
       "      <td>2002</td>\n",
       "      <td>MAY</td>\n",
       "      <td>37359</td>\n",
       "      <td>60577</td>\n",
       "      <td>8.550058e+08</td>\n",
       "      <td>442569410.0</td>\n",
       "      <td>97936</td>\n",
       "      <td>1.297575e+09</td>\n",
       "      <td>-23218</td>\n",
       "    </tr>\n",
       "    <tr>\n",
       "      <th>...</th>\n",
       "      <td>...</td>\n",
       "      <td>...</td>\n",
       "      <td>...</td>\n",
       "      <td>...</td>\n",
       "      <td>...</td>\n",
       "      <td>...</td>\n",
       "      <td>...</td>\n",
       "      <td>...</td>\n",
       "      <td>...</td>\n",
       "    </tr>\n",
       "    <tr>\n",
       "      <th>181</th>\n",
       "      <td>2017</td>\n",
       "      <td>FEB</td>\n",
       "      <td>22413</td>\n",
       "      <td>55989</td>\n",
       "      <td>7.762220e+08</td>\n",
       "      <td>592255229.0</td>\n",
       "      <td>78402</td>\n",
       "      <td>1.368477e+09</td>\n",
       "      <td>-33576</td>\n",
       "    </tr>\n",
       "    <tr>\n",
       "      <th>182</th>\n",
       "      <td>2017</td>\n",
       "      <td>MAR</td>\n",
       "      <td>27838</td>\n",
       "      <td>72717</td>\n",
       "      <td>9.267031e+08</td>\n",
       "      <td>744746293.0</td>\n",
       "      <td>100555</td>\n",
       "      <td>1.671449e+09</td>\n",
       "      <td>-44879</td>\n",
       "    </tr>\n",
       "    <tr>\n",
       "      <th>183</th>\n",
       "      <td>2017</td>\n",
       "      <td>APR</td>\n",
       "      <td>26135</td>\n",
       "      <td>62740</td>\n",
       "      <td>8.677223e+08</td>\n",
       "      <td>654981615.0</td>\n",
       "      <td>88875</td>\n",
       "      <td>1.522704e+09</td>\n",
       "      <td>-36605</td>\n",
       "    </tr>\n",
       "    <tr>\n",
       "      <th>184</th>\n",
       "      <td>2017</td>\n",
       "      <td>MAY</td>\n",
       "      <td>28931</td>\n",
       "      <td>68296</td>\n",
       "      <td>9.378041e+08</td>\n",
       "      <td>718689038.0</td>\n",
       "      <td>97227</td>\n",
       "      <td>1.656493e+09</td>\n",
       "      <td>-39365</td>\n",
       "    </tr>\n",
       "    <tr>\n",
       "      <th>185</th>\n",
       "      <td>2017</td>\n",
       "      <td>JUN</td>\n",
       "      <td>31835</td>\n",
       "      <td>67827</td>\n",
       "      <td>1.019153e+09</td>\n",
       "      <td>720739448.0</td>\n",
       "      <td>99662</td>\n",
       "      <td>1.739893e+09</td>\n",
       "      <td>-35992</td>\n",
       "    </tr>\n",
       "  </tbody>\n",
       "</table>\n",
       "<p>186 rows × 9 columns</p>\n",
       "</div>"
      ]
     },
     "execution_count": 9,
     "metadata": {},
     "output_type": "execute_result"
    }
   ],
   "execution_count": 9
  },
  {
   "metadata": {},
   "cell_type": "markdown",
   "source": [
    "7. **Змінити порядок розташування полів таким чином**\n",
    "- Рік, \n",
    "- Місяць, \n",
    "- Сумарний дохід, \n",
    "- Дохід від продажу нових автомобілів, \n",
    "- Дохід від продажу б/в автомобілів, \n",
    "- Сумарний обсяг продаж, \n",
    "- Обсяг продаж нових автомобілів, \n",
    "- Обсяг продаж б/в автомобілів, \n",
    "- Різниця між обсягами продаж нових та б/в автомобілів."
   ],
   "id": "58f666fea25c637b"
  },
  {
   "metadata": {
    "ExecuteTime": {
     "end_time": "2025-02-27T06:54:32.566885Z",
     "start_time": "2025-02-27T06:54:32.503855Z"
    }
   },
   "cell_type": "code",
   "source": [
    "new_order = ['Year','Month','Total Sales','Total Sales New','Total Sales Used','Sum New and Used','Diff New and Used','New','Used','Diff New and Used']\n",
    "df = df[new_order]\n",
    "df"
   ],
   "id": "fac5b65f70abd0ee",
   "outputs": [
    {
     "data": {
      "text/plain": [
       "     Year Month   Total Sales  Total Sales New  Total Sales Used  \\\n",
       "0    2002   JAN  1.141498e+09     7.550158e+08       386481929.0   \n",
       "1    2002   FEB  1.025807e+09     6.644542e+08       361353242.0   \n",
       "2    2002   MAR  1.225052e+09     8.056662e+08       419385387.0   \n",
       "3    2002   APR  1.279429e+09     8.463683e+08       433061150.0   \n",
       "4    2002   MAY  1.297575e+09     8.550058e+08       442569410.0   \n",
       "..    ...   ...           ...              ...               ...   \n",
       "181  2017   FEB  1.368477e+09     7.762220e+08       592255229.0   \n",
       "182  2017   MAR  1.671449e+09     9.267031e+08       744746293.0   \n",
       "183  2017   APR  1.522704e+09     8.677223e+08       654981615.0   \n",
       "184  2017   MAY  1.656493e+09     9.378041e+08       718689038.0   \n",
       "185  2017   JUN  1.739893e+09     1.019153e+09       720739448.0   \n",
       "\n",
       "     Sum New and Used  Diff New and Used    New   Used  Diff New and Used  \n",
       "0               81033             -18821  31106  49927             -18821  \n",
       "1               78502             -23462  27520  50982             -23462  \n",
       "2               93019             -24569  34225  58794             -24569  \n",
       "3               96269             -23365  36452  59817             -23365  \n",
       "4               97936             -23218  37359  60577             -23218  \n",
       "..                ...                ...    ...    ...                ...  \n",
       "181             78402             -33576  22413  55989             -33576  \n",
       "182            100555             -44879  27838  72717             -44879  \n",
       "183             88875             -36605  26135  62740             -36605  \n",
       "184             97227             -39365  28931  68296             -39365  \n",
       "185             99662             -35992  31835  67827             -35992  \n",
       "\n",
       "[186 rows x 10 columns]"
      ],
      "text/html": [
       "<div>\n",
       "<style scoped>\n",
       "    .dataframe tbody tr th:only-of-type {\n",
       "        vertical-align: middle;\n",
       "    }\n",
       "\n",
       "    .dataframe tbody tr th {\n",
       "        vertical-align: top;\n",
       "    }\n",
       "\n",
       "    .dataframe thead th {\n",
       "        text-align: right;\n",
       "    }\n",
       "</style>\n",
       "<table border=\"1\" class=\"dataframe\">\n",
       "  <thead>\n",
       "    <tr style=\"text-align: right;\">\n",
       "      <th></th>\n",
       "      <th>Year</th>\n",
       "      <th>Month</th>\n",
       "      <th>Total Sales</th>\n",
       "      <th>Total Sales New</th>\n",
       "      <th>Total Sales Used</th>\n",
       "      <th>Sum New and Used</th>\n",
       "      <th>Diff New and Used</th>\n",
       "      <th>New</th>\n",
       "      <th>Used</th>\n",
       "      <th>Diff New and Used</th>\n",
       "    </tr>\n",
       "  </thead>\n",
       "  <tbody>\n",
       "    <tr>\n",
       "      <th>0</th>\n",
       "      <td>2002</td>\n",
       "      <td>JAN</td>\n",
       "      <td>1.141498e+09</td>\n",
       "      <td>7.550158e+08</td>\n",
       "      <td>386481929.0</td>\n",
       "      <td>81033</td>\n",
       "      <td>-18821</td>\n",
       "      <td>31106</td>\n",
       "      <td>49927</td>\n",
       "      <td>-18821</td>\n",
       "    </tr>\n",
       "    <tr>\n",
       "      <th>1</th>\n",
       "      <td>2002</td>\n",
       "      <td>FEB</td>\n",
       "      <td>1.025807e+09</td>\n",
       "      <td>6.644542e+08</td>\n",
       "      <td>361353242.0</td>\n",
       "      <td>78502</td>\n",
       "      <td>-23462</td>\n",
       "      <td>27520</td>\n",
       "      <td>50982</td>\n",
       "      <td>-23462</td>\n",
       "    </tr>\n",
       "    <tr>\n",
       "      <th>2</th>\n",
       "      <td>2002</td>\n",
       "      <td>MAR</td>\n",
       "      <td>1.225052e+09</td>\n",
       "      <td>8.056662e+08</td>\n",
       "      <td>419385387.0</td>\n",
       "      <td>93019</td>\n",
       "      <td>-24569</td>\n",
       "      <td>34225</td>\n",
       "      <td>58794</td>\n",
       "      <td>-24569</td>\n",
       "    </tr>\n",
       "    <tr>\n",
       "      <th>3</th>\n",
       "      <td>2002</td>\n",
       "      <td>APR</td>\n",
       "      <td>1.279429e+09</td>\n",
       "      <td>8.463683e+08</td>\n",
       "      <td>433061150.0</td>\n",
       "      <td>96269</td>\n",
       "      <td>-23365</td>\n",
       "      <td>36452</td>\n",
       "      <td>59817</td>\n",
       "      <td>-23365</td>\n",
       "    </tr>\n",
       "    <tr>\n",
       "      <th>4</th>\n",
       "      <td>2002</td>\n",
       "      <td>MAY</td>\n",
       "      <td>1.297575e+09</td>\n",
       "      <td>8.550058e+08</td>\n",
       "      <td>442569410.0</td>\n",
       "      <td>97936</td>\n",
       "      <td>-23218</td>\n",
       "      <td>37359</td>\n",
       "      <td>60577</td>\n",
       "      <td>-23218</td>\n",
       "    </tr>\n",
       "    <tr>\n",
       "      <th>...</th>\n",
       "      <td>...</td>\n",
       "      <td>...</td>\n",
       "      <td>...</td>\n",
       "      <td>...</td>\n",
       "      <td>...</td>\n",
       "      <td>...</td>\n",
       "      <td>...</td>\n",
       "      <td>...</td>\n",
       "      <td>...</td>\n",
       "      <td>...</td>\n",
       "    </tr>\n",
       "    <tr>\n",
       "      <th>181</th>\n",
       "      <td>2017</td>\n",
       "      <td>FEB</td>\n",
       "      <td>1.368477e+09</td>\n",
       "      <td>7.762220e+08</td>\n",
       "      <td>592255229.0</td>\n",
       "      <td>78402</td>\n",
       "      <td>-33576</td>\n",
       "      <td>22413</td>\n",
       "      <td>55989</td>\n",
       "      <td>-33576</td>\n",
       "    </tr>\n",
       "    <tr>\n",
       "      <th>182</th>\n",
       "      <td>2017</td>\n",
       "      <td>MAR</td>\n",
       "      <td>1.671449e+09</td>\n",
       "      <td>9.267031e+08</td>\n",
       "      <td>744746293.0</td>\n",
       "      <td>100555</td>\n",
       "      <td>-44879</td>\n",
       "      <td>27838</td>\n",
       "      <td>72717</td>\n",
       "      <td>-44879</td>\n",
       "    </tr>\n",
       "    <tr>\n",
       "      <th>183</th>\n",
       "      <td>2017</td>\n",
       "      <td>APR</td>\n",
       "      <td>1.522704e+09</td>\n",
       "      <td>8.677223e+08</td>\n",
       "      <td>654981615.0</td>\n",
       "      <td>88875</td>\n",
       "      <td>-36605</td>\n",
       "      <td>26135</td>\n",
       "      <td>62740</td>\n",
       "      <td>-36605</td>\n",
       "    </tr>\n",
       "    <tr>\n",
       "      <th>184</th>\n",
       "      <td>2017</td>\n",
       "      <td>MAY</td>\n",
       "      <td>1.656493e+09</td>\n",
       "      <td>9.378041e+08</td>\n",
       "      <td>718689038.0</td>\n",
       "      <td>97227</td>\n",
       "      <td>-39365</td>\n",
       "      <td>28931</td>\n",
       "      <td>68296</td>\n",
       "      <td>-39365</td>\n",
       "    </tr>\n",
       "    <tr>\n",
       "      <th>185</th>\n",
       "      <td>2017</td>\n",
       "      <td>JUN</td>\n",
       "      <td>1.739893e+09</td>\n",
       "      <td>1.019153e+09</td>\n",
       "      <td>720739448.0</td>\n",
       "      <td>99662</td>\n",
       "      <td>-35992</td>\n",
       "      <td>31835</td>\n",
       "      <td>67827</td>\n",
       "      <td>-35992</td>\n",
       "    </tr>\n",
       "  </tbody>\n",
       "</table>\n",
       "<p>186 rows × 10 columns</p>\n",
       "</div>"
      ]
     },
     "execution_count": 10,
     "metadata": {},
     "output_type": "execute_result"
    }
   ],
   "execution_count": 10
  },
  {
   "metadata": {},
   "cell_type": "markdown",
   "source": [
    "8. **Визначити та вивести:** \n",
    "    1. Рік та місяць, у які нових автомобілів було продано менше за б/в; \n",
    "    2. Рік та місяць, коли сумарний дохід був мінімальним; \n",
    "    3. Рік та місяць, коли було продано найбільше б/в авто. "
   ],
   "id": "9759d2cd2a8efe20"
  },
  {
   "metadata": {
    "ExecuteTime": {
     "end_time": "2025-02-27T06:54:33.396670Z",
     "start_time": "2025-02-27T06:54:33.373997Z"
    }
   },
   "cell_type": "code",
   "source": [
    "filtered_df = df[df['New'] < df['Used']]\n",
    "print(filtered_df[['Year', 'Month']])"
   ],
   "id": "ce46ed6bf7d0537e",
   "outputs": [
    {
     "name": "stdout",
     "output_type": "stream",
     "text": [
      "     Year Month\n",
      "0    2002   JAN\n",
      "1    2002   FEB\n",
      "2    2002   MAR\n",
      "3    2002   APR\n",
      "4    2002   MAY\n",
      "..    ...   ...\n",
      "181  2017   FEB\n",
      "182  2017   MAR\n",
      "183  2017   APR\n",
      "184  2017   MAY\n",
      "185  2017   JUN\n",
      "\n",
      "[186 rows x 2 columns]\n"
     ]
    }
   ],
   "execution_count": 11
  },
  {
   "metadata": {
    "ExecuteTime": {
     "end_time": "2025-02-27T06:54:34.348841Z",
     "start_time": "2025-02-27T06:54:34.316350Z"
    }
   },
   "cell_type": "code",
   "source": [
    "min_sales = df['Total Sales'].min()\n",
    "filtered_df = df[df['Total Sales'] == min_sales]\n",
    "print(filtered_df[['Year', 'Month']])"
   ],
   "id": "d111656a301bdd7f",
   "outputs": [
    {
     "name": "stdout",
     "output_type": "stream",
     "text": [
      "    Year Month\n",
      "97  2010   FEB\n"
     ]
    }
   ],
   "execution_count": 12
  },
  {
   "metadata": {
    "ExecuteTime": {
     "end_time": "2025-02-27T06:54:35.016714Z",
     "start_time": "2025-02-27T06:54:34.991346Z"
    }
   },
   "cell_type": "code",
   "source": [
    "max_sales = df['Used'].max()\n",
    "filtered_df = df[df['Used'] == max_sales]\n",
    "print(filtered_df[['Year', 'Month']])"
   ],
   "id": "1587c87d3e26bc5e",
   "outputs": [
    {
     "name": "stdout",
     "output_type": "stream",
     "text": [
      "     Year Month\n",
      "170  2016   MAR\n"
     ]
    }
   ],
   "execution_count": 13
  },
  {
   "metadata": {},
   "cell_type": "markdown",
   "source": [
    "9. **Визначити та вивести:**\n",
    "    1. Сумарний обсяг продажу транспортних засобів за кожен рік; \n",
    "    2. Середній дохід від продажу б/в транспортних засобів в місяці М, де М – це порядковий номер у списку підгрупи за абеткою. **Тобто в мене буде 1-ший місяць.**\n"
   ],
   "id": "242f35dfa8454cf7"
  },
  {
   "metadata": {
    "ExecuteTime": {
     "end_time": "2025-02-27T06:54:35.919122Z",
     "start_time": "2025-02-27T06:54:35.897683Z"
    }
   },
   "cell_type": "code",
   "source": [
    "year_sales = df.groupby(['Year'])['Sum New and Used'].sum()\n",
    "print(year_sales)"
   ],
   "id": "b95be93d3ff942fa",
   "outputs": [
    {
     "name": "stdout",
     "output_type": "stream",
     "text": [
      "Year\n",
      "2002    1058253\n",
      "2003    1103610\n",
      "2004    1128185\n",
      "2005    1125669\n",
      "2006    1096250\n",
      "2007    1056733\n",
      "2008     927044\n",
      "2009     857817\n",
      "2010     894067\n",
      "2011     913397\n",
      "2012     944440\n",
      "2013     979964\n",
      "2014     997685\n",
      "2015    1054364\n",
      "2016    1096509\n",
      "2017     550131\n",
      "Name: Sum New and Used, dtype: int64\n"
     ]
    }
   ],
   "execution_count": 14
  },
  {
   "metadata": {
    "ExecuteTime": {
     "end_time": "2025-02-27T06:54:36.335192Z",
     "start_time": "2025-02-27T06:54:36.299538Z"
    }
   },
   "cell_type": "code",
   "source": [
    "jan = df[df['Month'] == 'JAN']\n",
    "gr = jan.groupby('Year')['Total Sales Used'].mean()\n",
    "print(gr)"
   ],
   "id": "ab595ac8662ce5f2",
   "outputs": [
    {
     "name": "stdout",
     "output_type": "stream",
     "text": [
      "Year\n",
      "2002    386481929.0\n",
      "2003    392438833.0\n",
      "2004    367825717.0\n",
      "2005    407244081.0\n",
      "2006    436119403.0\n",
      "2007    462733911.0\n",
      "2008    430842103.0\n",
      "2009    320520578.0\n",
      "2010    316999705.0\n",
      "2011    374185956.0\n",
      "2012    419503746.0\n",
      "2013    453614704.0\n",
      "2014    460264339.0\n",
      "2015    512446033.0\n",
      "2016    518918140.0\n",
      "2017    674078790.0\n",
      "Name: Total Sales Used, dtype: float64\n"
     ]
    }
   ],
   "execution_count": 15
  },
  {
   "metadata": {},
   "cell_type": "markdown",
   "source": [
    "10. Побудувати стовпчикову діаграму обсягу продаж нових авто у\n",
    "році 20YY, де дві останні цифри року визначаються як 17 – порядковий номер\n",
    "у списку підгрупи за абеткою. **Тобто в моєму випадку буде 2016.**"
   ],
   "id": "d4a0b91a95610233"
  },
  {
   "metadata": {
    "ExecuteTime": {
     "end_time": "2025-02-27T06:54:39.017184Z",
     "start_time": "2025-02-27T06:54:36.701950Z"
    }
   },
   "cell_type": "code",
   "source": [
    "my_year = df[df['Year']==2016]\n",
    "\n",
    "plt.figure(figsize=(10, 6))\n",
    "plt.bar(my_year['Month'], my_year['New'], color='green')\n",
    "plt.title('Обсяг продажів нових авто у 2016 році')\n",
    "plt.xlabel('Місяць')\n",
    "plt.ylabel('Обсяг продажів')\n",
    "plt.xticks(rotation=45)  # Щоб підписи не накладалися\n",
    "plt.show()"
   ],
   "id": "9ec5d1bb35a984d",
   "outputs": [
    {
     "data": {
      "text/plain": [
       "<Figure size 1000x600 with 1 Axes>"
      ],
      "image/png": "[encoded data removed]"
     },
     "metadata": {},
     "output_type": "display_data"
    }
   ],
   "execution_count": 16
  },
  {
   "metadata": {},
   "cell_type": "markdown",
   "source": [
    "11. Побудувати кругову діаграму сумарного обсягу продаж за кожен\n",
    "рік. "
   ],
   "id": "71cb4e477c996ba3"
  },
  {
   "metadata": {
    "ExecuteTime": {
     "end_time": "2025-02-27T06:58:12.289148Z",
     "start_time": "2025-02-27T06:58:11.406803Z"
    }
   },
   "cell_type": "code",
   "source": [
    "plt.figure(figsize=(10, 6))\n",
    "plt.pie(year_sales, labels=year_sales.index, autopct = '%1.1f%%', startangle=179)\n",
    "plt.title('Сумарний обсяг продажів за кожен рік')\n",
    "plt.show()"
   ],
   "id": "8edf23f50607b150",
   "outputs": [
    {
     "data": {
      "text/plain": [
       "<Figure size 1000x600 with 1 Axes>"
      ],
      "image/png": "[encoded data removed]"
     },
     "metadata": {},
     "output_type": "display_data"
    }
   ],
   "execution_count": 22
  },
  {
   "metadata": {},
   "cell_type": "markdown",
   "source": [
    "12. Побудувати на одному графіку: \n",
    "    1. Сумарний дохід від продажу нових авто; \n",
    "    2. Сумарний дохід від продажу старих авто."
   ],
   "id": "97239cc348e3eec5"
  },
  {
   "metadata": {
    "ExecuteTime": {
     "end_time": "2025-02-27T06:54:40.292067Z",
     "start_time": "2025-02-27T06:54:39.575151Z"
    }
   },
   "cell_type": "code",
   "source": [
    "plt.figure(figsize=(10, 6))\n",
    "\n",
    "plt.plot(df.index, df['Total Sales New'], color='blue', label='Сумарний дохід від продажу нових авто')\n",
    "plt.plot(df.index, df['Total Sales Used'], color='yellow', label='Сумарний дохід від продажу старих авто')\n",
    "plt.title(\"Сумарний дохід від продажу нових та старих авто\")\n",
    "plt.xlabel(\"Індекс\")\n",
    "plt.ylabel(\"Сумарний дохід\")\n",
    "plt.legend()\n",
    "plt.grid(True)\n",
    "plt.show()"
   ],
   "id": "dd42dfe0d58a63fc",
   "outputs": [
    {
     "data": {
      "text/plain": [
       "<Figure size 1000x600 with 1 Axes>"
      ],
      "image/png": "[encoded data removed]"
     },
     "metadata": {},
     "output_type": "display_data"
    }
   ],
   "execution_count": 18
  }
 ],
 "metadata": {
  "kernelspec": {
   "display_name": "Python 3",
   "language": "python",
   "name": "python3"
  },
  "language_info": {
   "codemirror_mode": {
    "name": "ipython",
    "version": 2
   },
   "file_extension": ".py",
   "mimetype": "text/x-python",
   "name": "python",
   "nbconvert_exporter": "python",
   "pygments_lexer": "ipython2",
   "version": "2.7.6"
  }
 },
 "nbformat": 4,
 "nbformat_minor": 5
}
