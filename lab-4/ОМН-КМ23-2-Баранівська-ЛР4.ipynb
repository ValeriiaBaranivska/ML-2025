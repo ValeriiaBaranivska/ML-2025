{
 "cells": [
  {
   "metadata": {},
   "cell_type": "markdown",
   "source": [
    "#  **Лабораторна робота №4**\n",
    "##   Метод k найближчих сусідів\n",
    "##### Підгрупа №2\n",
    "##### Виконала: Бранівська Валерія  ст.гр.КМ-23\n",
    "---\n",
    "Імпортування відповідних бібліотек Python."
   ],
   "id": "df01375450e935bc"
  },
  {
   "cell_type": "code",
   "id": "initial_id",
   "metadata": {
    "collapsed": true,
    "ExecuteTime": {
     "end_time": "2025-04-06T08:55:56.122614Z",
     "start_time": "2025-04-06T08:55:55.924301Z"
    }
   },
   "source": [
    "import pandas as pd\n",
    "import numpy as np\n",
    "from tabulate import tabulate\n",
    "import matplotlib.pyplot as plt\n",
    "import seaborn as sns\n",
    "import graphviz \n",
    "from collections import defaultdict\n",
    "from sklearn.metrics import (\n",
    "    accuracy_score, precision_score, recall_score, f1_score,\n",
    "    matthews_corrcoef, balanced_accuracy_score, roc_auc_score,\n",
    "    average_precision_score, confusion_matrix, precision_recall_curve, roc_curve, auc\n",
    ")"
   ],
   "outputs": [
    {
     "ename": "ModuleNotFoundError",
     "evalue": "No module named 'graphviz'",
     "output_type": "error",
     "traceback": [
      "\u001B[1;31m---------------------------------------------------------------------------\u001B[0m",
      "\u001B[1;31mModuleNotFoundError\u001B[0m                       Traceback (most recent call last)",
      "Cell \u001B[1;32mIn[2], line 6\u001B[0m\n\u001B[0;32m      4\u001B[0m \u001B[38;5;28;01mimport\u001B[39;00m \u001B[38;5;21;01mmatplotlib\u001B[39;00m\u001B[38;5;21;01m.\u001B[39;00m\u001B[38;5;21;01mpyplot\u001B[39;00m \u001B[38;5;28;01mas\u001B[39;00m \u001B[38;5;21;01mplt\u001B[39;00m\n\u001B[0;32m      5\u001B[0m \u001B[38;5;28;01mimport\u001B[39;00m \u001B[38;5;21;01mseaborn\u001B[39;00m \u001B[38;5;28;01mas\u001B[39;00m \u001B[38;5;21;01msns\u001B[39;00m\n\u001B[1;32m----> 6\u001B[0m \u001B[38;5;28;01mimport\u001B[39;00m \u001B[38;5;21;01mgraphviz\u001B[39;00m \n\u001B[0;32m      7\u001B[0m \u001B[38;5;28;01mfrom\u001B[39;00m \u001B[38;5;21;01mcollections\u001B[39;00m \u001B[38;5;28;01mimport\u001B[39;00m defaultdict\n\u001B[0;32m      8\u001B[0m \u001B[38;5;28;01mfrom\u001B[39;00m \u001B[38;5;21;01msklearn\u001B[39;00m\u001B[38;5;21;01m.\u001B[39;00m\u001B[38;5;21;01mmetrics\u001B[39;00m \u001B[38;5;28;01mimport\u001B[39;00m (\n\u001B[0;32m      9\u001B[0m     accuracy_score, precision_score, recall_score, f1_score,\n\u001B[0;32m     10\u001B[0m     matthews_corrcoef, balanced_accuracy_score, roc_auc_score,\n\u001B[0;32m     11\u001B[0m     average_precision_score, confusion_matrix, precision_recall_curve, roc_curve, auc\n\u001B[0;32m     12\u001B[0m )\n",
      "\u001B[1;31mModuleNotFoundError\u001B[0m: No module named 'graphviz'"
     ]
    }
   ],
   "execution_count": 2
  },
  {
   "metadata": {},
   "cell_type": "markdown",
   "source": "1. Відкрити та зчитати наданий файл з даними.",
   "id": "9da2967c9505fe5a"
  },
  {
   "metadata": {
    "ExecuteTime": {
     "end_time": "2025-04-06T08:55:50.132400Z",
     "start_time": "2025-04-06T08:55:46.987767Z"
    }
   },
   "cell_type": "code",
   "source": [
    "df = pd.read_csv('ЛР4-пгр2.csv')\n",
    "df"
   ],
   "id": "93c00d16c2fe36e7",
   "outputs": [
    {
     "ename": "NameError",
     "evalue": "name 'pd' is not defined",
     "output_type": "error",
     "traceback": [
      "\u001B[1;31m---------------------------------------------------------------------------\u001B[0m",
      "\u001B[1;31mNameError\u001B[0m                                 Traceback (most recent call last)",
      "Cell \u001B[1;32mIn[1], line 1\u001B[0m\n\u001B[1;32m----> 1\u001B[0m df \u001B[38;5;241m=\u001B[39m pd\u001B[38;5;241m.\u001B[39mread_csv(\u001B[38;5;124m'\u001B[39m\u001B[38;5;124mЛР3-пгр2.csv\u001B[39m\u001B[38;5;124m'\u001B[39m)\n\u001B[0;32m      2\u001B[0m df\n",
      "\u001B[1;31mNameError\u001B[0m: name 'pd' is not defined"
     ]
    }
   ],
   "execution_count": 1
  },
  {
   "metadata": {},
   "cell_type": "markdown",
   "source": [
    "2. Визначити та вивести кількість записів та кількість полів у\n",
    "завантаженому наборі даних."
   ],
   "id": "b0157f0f49782125"
  },
  {
   "metadata": {},
   "cell_type": "code",
   "outputs": [],
   "execution_count": null,
   "source": [
    "print(f\"Розмір: {df.size}\")\n",
    "print(f\"Кількість рядків: {df.shape[0]}\\nКількість стовпців: {df.shape[1]}\\n\")\n",
    "print(f\"Назви стовпців: {df.columns}\")"
   ],
   "id": "96ced8634f010944"
  },
  {
   "metadata": {},
   "cell_type": "markdown",
   "source": "3. Вивести атрибути набору даних.",
   "id": "59e4605b8d3a14e5"
  },
  {
   "metadata": {},
   "cell_type": "code",
   "outputs": [],
   "execution_count": null,
   "source": "print(f\"Перші 10 записів набору {df.head(10)}\")",
   "id": "28aa66621aa80515"
  },
  {
   "metadata": {},
   "cell_type": "markdown",
   "source": [
    "4. Отримати десять варіантів перемішування набору даних та розділення\n",
    "його на навчальну (тренувальну) та тестову вибірки, використовуючи\n",
    "функцію ShuffleSplit. Сформувати начальну та тестові вибірки на\n",
    "основі восьмого варіанту. З’ясувати збалансованість набору даних."
   ],
   "id": "75a85fadc0970cb2"
  },
  {
   "metadata": {},
   "cell_type": "code",
   "outputs": [],
   "execution_count": null,
   "source": "",
   "id": "737e7233472774b3"
  },
  {
   "metadata": {},
   "cell_type": "markdown",
   "source": [
    "5. Використовуючи функцію KNeighborsClassifier бібліотеки scikit-learn,\n",
    "збудувати класифікаційну модель на основі методу k найближчих\n",
    "сусідів (значення всіх параметрів залишити за замовчуванням) та\n",
    "навчити її на тренувальній вибірці, вважаючи, що цільова\n",
    "характеристика визначається стовпчиком quality, а всі інші виступають\n",
    "в ролі вихідних аргументів"
   ],
   "id": "757f4d766d4c3b26"
  },
  {
   "metadata": {},
   "cell_type": "code",
   "outputs": [],
   "execution_count": null,
   "source": "",
   "id": "7026caa6e602a0f5"
  },
  {
   "metadata": {},
   "cell_type": "markdown",
   "source": [
    "6. Обчислити класифікаційні метрики збудованої моделі для тренувальної\n",
    "та тестової вибірки. Представити результати роботи моделі на тестовій\n",
    "вибірці графічно"
   ],
   "id": "af9cdb49caf3e798"
  },
  {
   "metadata": {},
   "cell_type": "code",
   "outputs": [],
   "execution_count": null,
   "source": "",
   "id": "48f8b509fc531e3b"
  },
  {
   "metadata": {},
   "cell_type": "markdown",
   "source": [
    "7. З’ясувати вплив кількості сусідів (від 1 до 20) на результати\n",
    "класифікації. Результати представити графічно"
   ],
   "id": "98fa4e103a7aa27d"
  },
  {
   "metadata": {},
   "cell_type": "code",
   "outputs": [],
   "execution_count": null,
   "source": "",
   "id": "e614ffe6a0d53390"
  }
 ],
 "metadata": {
  "kernelspec": {
   "display_name": "Python 3",
   "language": "python",
   "name": "python3"
  },
  "language_info": {
   "codemirror_mode": {
    "name": "ipython",
    "version": 2
   },
   "file_extension": ".py",
   "mimetype": "text/x-python",
   "name": "python",
   "nbconvert_exporter": "python",
   "pygments_lexer": "ipython2",
   "version": "2.7.6"
  }
 },
 "nbformat": 4,
 "nbformat_minor": 5
}
